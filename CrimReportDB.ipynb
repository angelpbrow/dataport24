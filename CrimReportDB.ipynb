{
 "cells": [
  {
   "cell_type": "markdown",
   "metadata": {},
   "source": [
    "# Building a database for crime reports"
   ]
  },
  {
   "cell_type": "markdown",
   "metadata": {},
   "source": [
    "## Introduction\n",
    "\n",
    "Our team has been tapped by the Boston governement to build a database for storing data related to crimes that occurred in Boston. This dataset is available in a file called boston.csv. \n",
    "\n",
    "The requirements given to us is to create a database named crimes_db with appropriate datatypes for storing the data from the boston.csv file. It will be placed inside a schema named crimes. A table will also be created. There will also be readonly and readwrite groups with the appropriate privileges created. Finally, users will be created for each of these groups."
   ]
  },
  {
   "cell_type": "markdown",
   "metadata": {},
   "source": [
    "## Creating the Crime Database"
   ]
  },
  {
   "cell_type": "markdown",
   "metadata": {},
   "source": [
    "We will start by creating a database for storing the crime data as well as a schema for containing the tables. A database can be created using the following command: CREATE DATABASE database_name;\n",
    "\n",
    "Inside this database, we will create a schema to keep the data organized. \n"
   ]
  },
  {
   "cell_type": "code",
   "execution_count": 1,
   "metadata": {},
   "outputs": [
    {
     "ename": "ProgrammingError",
     "evalue": "database \"crime_db\" already exists\n",
     "output_type": "error",
     "traceback": [
      "\u001b[1;31m\u001b[0m",
      "\u001b[1;31mProgrammingError\u001b[0mTraceback (most recent call last)",
      "\u001b[1;32m<ipython-input-1-3174a72c1bfa>\u001b[0m in \u001b[0;36m<module>\u001b[1;34m()\u001b[0m\n\u001b[0;32m      7\u001b[0m \u001b[1;33m\u001b[0m\u001b[0m\n\u001b[0;32m      8\u001b[0m \u001b[1;31m# Create the crime_db database\u001b[0m\u001b[1;33m\u001b[0m\u001b[1;33m\u001b[0m\u001b[0m\n\u001b[1;32m----> 9\u001b[1;33m \u001b[0mcur\u001b[0m\u001b[1;33m.\u001b[0m\u001b[0mexecute\u001b[0m\u001b[1;33m(\u001b[0m\u001b[1;34m\"CREATE DATABASE crime_db;\"\u001b[0m\u001b[1;33m)\u001b[0m\u001b[1;33m\u001b[0m\u001b[0m\n\u001b[0m\u001b[0;32m     10\u001b[0m \u001b[0mconn\u001b[0m\u001b[1;33m.\u001b[0m\u001b[0mclose\u001b[0m\u001b[1;33m(\u001b[0m\u001b[1;33m)\u001b[0m\u001b[1;33m\u001b[0m\u001b[0m\n",
      "\u001b[1;31mProgrammingError\u001b[0m: database \"crime_db\" already exists\n"
     ]
    }
   ],
   "source": [
    "import psycopg2\n",
    "conn = psycopg2.connect(\"dbname=dq user=dq\")\n",
    "\n",
    "# To create database we set autocommit to true\n",
    "conn.autocommit = True\n",
    "cur = conn.cursor()\n",
    "\n",
    "# Create the crime_db database\n",
    "cur.execute(\"CREATE DATABASE crime_db;\")\n",
    "conn.close()"
   ]
  },
  {
   "cell_type": "code",
   "execution_count": 2,
   "metadata": {},
   "outputs": [],
   "source": [
    "# Now let us connect to crime_db with user dq\n",
    "conn = psycopg2.connect(\"dbname=crime_db user=dq\")\n",
    "cur = conn.cursor()\n",
    "\n",
    "\n",
    "# To create a schema named crimes;\n",
    "cur.execute(\"CREATE SCHEMA crimes;\")"
   ]
  },
  {
   "cell_type": "markdown",
   "metadata": {},
   "source": [
    "## Obtaining the Column Names and Sample"
   ]
  },
  {
   "cell_type": "markdown",
   "metadata": {},
   "source": [
    "Since we now have a database and a schema, we're ready to start creating tables. First, let's gather some data about our crime dataset so that we can easily select the right datatypes to use in our table.\n",
    "\n",
    "We will start by reading the column names from the boston.csv file as well as the first row. This way we will have them at hand throughout this guided project for easy reference"
   ]
  },
  {
   "cell_type": "code",
   "execution_count": 3,
   "metadata": {
    "collapsed": true
   },
   "outputs": [],
   "source": [
    "# We can read a csv file using the csv module as follows\n",
    "import csv\n",
    "with open('boston.csv') as file:\n",
    "    reader = csv.reader(file)\n",
    "    col_headers = next(reader)\n",
    "    first_row = next(reader)"
   ]
  },
  {
   "cell_type": "markdown",
   "metadata": {},
   "source": [
    "## Creating an Auxiliary Function"
   ]
  },
  {
   "cell_type": "markdown",
   "metadata": {},
   "source": [
    "Before creating a table to store the crime data, we need to identify the proper datatypes for the columns. To help with that, we'll create a function '**get_col_set()**', that, given the name of a CSV file and a column index (starting at 0), computes a Python set with all distinct values contained in that column.\n",
    "\n",
    "This function will be useful for two reasons:\n",
    "\n",
    "1. Checking whether an enumerated datatype might be a good choice for representing a column\n",
    "\n",
    "2. Computing the maximum length of any text-like column to select appropriate sizes for VARCHAR columns"
   ]
  },
  {
   "cell_type": "code",
   "execution_count": 4,
   "metadata": {},
   "outputs": [
    {
     "name": "stdout",
     "output_type": "stream",
     "text": [
      "incident_number\t298329\n",
      "offense_code\t219\n",
      "description\t239\n",
      "date\t1177\n",
      "day_of_the_week\t7\n",
      "lat\t18177\n",
      "long\t18177\n"
     ]
    }
   ],
   "source": [
    "# To create a get_col_set(csv_filename, col_index)\n",
    "\n",
    "def get_col_set(csv_filename, col_index):\n",
    "    import csv\n",
    "    values = set()\n",
    "    with open(csv_filename, 'r') as f:\n",
    "        next(f)\n",
    "        reader = csv.reader(f)\n",
    "        for row in reader:\n",
    "            values.add(row[col_index])\n",
    "        return values\n",
    "\n",
    "# To compute the number of different values each column contains     \n",
    "for i in range(len(col_headers)):\n",
    "    values = get_col_set(\"boston.csv\", i)\n",
    "    print(col_headers[i], len(values), sep='\\t')    "
   ]
  },
  {
   "cell_type": "markdown",
   "metadata": {},
   "source": [
    "## Finding the Maximum Length"
   ]
  },
  {
   "cell_type": "markdown",
   "metadata": {},
   "source": [
    "It is important to know the longest word in any column containing textual data. We can actually use the previous function for computing this:\n",
    "\n",
    "1. Use the **get_col_set()** function to get the distinct values of that column into a variable named **col_values**.\n",
    "\n",
    "2. Iterate over the elements of **col_values**, and find the longest one.\n",
    "\n",
    "There are two textual columns in the dataset, namely, the description and **day_of_the_week** columns. However, the day of the week contains only seven values, one for each day. We can tell that the longest of them is Wednesday without any computation. We'll compute the maximum length of each value in the description column."
   ]
  },
  {
   "cell_type": "code",
   "execution_count": null,
   "metadata": {},
   "outputs": [],
   "source": []
  },
  {
   "cell_type": "code",
   "execution_count": 5,
   "metadata": {},
   "outputs": [
    {
     "name": "stdout",
     "output_type": "stream",
     "text": [
      "['incident_number', 'offense_code', 'description', 'date', 'day_of_the_week', 'lat', 'long']\n"
     ]
    }
   ],
   "source": [
    "print(col_headers)"
   ]
  },
  {
   "cell_type": "code",
   "execution_count": 6,
   "metadata": {},
   "outputs": [
    {
     "name": "stdout",
     "output_type": "stream",
     "text": [
      "58\n"
     ]
    }
   ],
   "source": [
    "descriptions = get_col_set('boston.csv', 2)\n",
    "max_len = 0\n",
    "for description in descriptions:\n",
    "    max_len = max(max_len, len(description))\n",
    "print(max_len)"
   ]
  },
  {
   "cell_type": "markdown",
   "metadata": {},
   "source": [
    "## Creating the Table"
   ]
  },
  {
   "cell_type": "markdown",
   "metadata": {},
   "source": [
    "Let's create a table to store the Boston crime data. We'll make reference to the information that we have gathered namely, the number of different values of each column and the maximum length of the string columns."
   ]
  },
  {
   "cell_type": "code",
   "execution_count": 7,
   "metadata": {},
   "outputs": [
    {
     "name": "stdout",
     "output_type": "stream",
     "text": [
      "['incident_number', 'offense_code', 'description', 'date', 'day_of_the_week', 'lat', 'long']\n",
      "['1', '619', 'LARCENY ALL OTHERS', '2018-09-02', 'Sunday', '42.35779134', '-71.13937053']\n"
     ]
    }
   ],
   "source": [
    "print(col_headers)\n",
    "print(first_row)"
   ]
  },
  {
   "cell_type": "markdown",
   "metadata": {},
   "source": [
    "The same names will be used for the column headers.\n",
    "\n",
    "The following are the values for each column:\n",
    "* incident_number 298329\n",
    "* offense_code       219\n",
    "* description        239\n",
    "* date\t          1177\n",
    "* day_of_the_week      7\n",
    "* lat              18177\n",
    "* long\t         18177"
   ]
  },
  {
   "cell_type": "markdown",
   "metadata": {},
   "source": [
    "By printing the first_row, we see the kind of data we have;\n",
    "* integer numbers\n",
    "* integer numbers\n",
    "* string\n",
    "* date\n",
    "* string\n",
    "* decimal number\n",
    "* decimal number"
   ]
  },
  {
   "cell_type": "markdown",
   "metadata": {},
   "source": [
    "The column with a smale range of values is the **day_of_the_week** column, hence we will only create an enumerated datatype for this column. Another column worth considering is **offense_code** since there is probably a limited set of possible offense codes."
   ]
  },
  {
   "cell_type": "markdown",
   "metadata": {},
   "source": [
    "The **offense_code** column has size at most 59. To be on the safe side, we will limit the size of the description to 100 and use the VARCHAR(100) datatype.\n",
    "\n",
    "The lat and long columns need to hold quite a lot of precision, hence we will use the decimal type."
   ]
  },
  {
   "cell_type": "code",
   "execution_count": 8,
   "metadata": {
    "collapsed": true
   },
   "outputs": [],
   "source": [
    "# Create the enumerated dataype for representing the weekday\n",
    "\n",
    "cur.execute(\"\"\"\n",
    "            CREATE TYPE weekday AS ENUM ('Monday', 'Tuesday', 'Wednesday', 'Thursday', 'Friday', 'Saturday', 'Sunday');\n",
    "            \"\"\")\n",
    "\n",
    "# Create the table\n",
    "cur.execute(\"\"\"\n",
    "            CREATE TABLE crimes.boston_crimes (\n",
    "            incident_number INTEGER PRIMARY KEY,\n",
    "            offense_code INTEGER,\n",
    "            description VARCHAR(100),\n",
    "            date DATE,\n",
    "            day_of_the_week weekday,\n",
    "            lat decimal,\n",
    "            long decimal);\"\"\")\n"
   ]
  },
  {
   "cell_type": "markdown",
   "metadata": {},
   "source": [
    "## Loading the Data"
   ]
  },
  {
   "cell_type": "markdown",
   "metadata": {},
   "source": [
    "Having created the table, we can load the data into it. We will use the **cursor.copy_expert()** method to do this."
   ]
  },
  {
   "cell_type": "code",
   "execution_count": 9,
   "metadata": {},
   "outputs": [
    {
     "name": "stdout",
     "output_type": "stream",
     "text": [
      "298329\n"
     ]
    }
   ],
   "source": [
    "with open(\"boston.csv\") as f:\n",
    "    cur.copy_expert(\"COPY crimes.boston_crimes FROM STDIN WITH CSV HEADER;\", f)\n",
    "cur.execute(\"SELECT * FROM crimes.boston_crimes\")\n",
    "\n",
    "# To ensure the number of rows were loaded, we shall print them.\n",
    "print(len(cur.fetchall()))"
   ]
  },
  {
   "cell_type": "markdown",
   "metadata": {},
   "source": [
    "## Revoking Public Privileges"
   ]
  },
  {
   "cell_type": "markdown",
   "metadata": {},
   "source": [
    "Now we will handle users. The goal is to create the two user groups, the readonly and readwrite. By following the least privilege principle, the first step in doing so is to make sure that there are no privileges inherited from the public group and on the public schema.\n",
    "\n",
    "We can do this by issuing the following two commands:\n",
    "\n",
    "REVOKE ALL ON SCHEMA public FROM public;\n",
    "\n",
    "REVOKE ALL ON DATABASE database_name FROM public;"
   ]
  },
  {
   "cell_type": "code",
   "execution_count": 10,
   "metadata": {},
   "outputs": [],
   "source": [
    "cur.execute(\"REVOKE ALL ON SCHEMA public FROM public;\")\n",
    "\n",
    "cur.execute(\"REVOKE ALL ON DATABASE crime_db FROM public;\")"
   ]
  },
  {
   "cell_type": "markdown",
   "metadata": {
    "collapsed": true
   },
   "source": [
    "## Creating User Groups"
   ]
  },
  {
   "cell_type": "markdown",
   "metadata": {},
   "source": [
    "We've made sure that we aren't going to inadvertently inherit privileges from the public group. The next step is to create our two user groups, which are readonly and readwrite groups."
   ]
  },
  {
   "cell_type": "code",
   "execution_count": 11,
   "metadata": {},
   "outputs": [],
   "source": [
    "cur.execute(\"CREATE GROUP readonly NOLOGIN;\")\n",
    "cur.execute(\"CREATE GROUP readwrite NOLOGIN;\")\n",
    "cur.execute(\"GRANT CONNECT ON DATABASE crime_db TO readonly;\")\n",
    "cur.execute(\"GRANT CONNECT ON DATABASE crime_db TO readwrite;\")\n",
    "cur.execute(\"GRANT USAGE ON SCHEMA crimes TO readonly;\")\n",
    "cur.execute(\"GRANT USAGE ON SCHEMA crimes TO readwrite;\")\n",
    "cur.execute(\"GRANT SELECT ON ALL TABLES IN SCHEMA crimes TO readonly;\")\n",
    "cur.execute(\"GRANT SELECT, INSERT, DELETE, UPDATE ON ALL TABLES IN SCHEMA crimes TO readwrite;\")\n"
   ]
  },
  {
   "cell_type": "markdown",
   "metadata": {},
   "source": [
    "## Creating Users"
   ]
  },
  {
   "cell_type": "markdown",
   "metadata": {},
   "source": [
    "We are nearly done with setting up our crime database. The only thing that we need to do is create users. Let's complete the project by creating one user in each group. We will need to create each user and then assign them to each group. We can create a user using the following command:\n",
    "\n",
    "CREATE USER user_name WITH PASSWORD 'some_password';"
   ]
  },
  {
   "cell_type": "code",
   "execution_count": 12,
   "metadata": {},
   "outputs": [],
   "source": [
    "# To create a user named data_analyst with password secret1\n",
    "cur.execute(\"CREATE USER data_analyst WITH PASSWORD 'secret1';\")\n",
    "cur.execute(\"GRANT data_analyst TO readonly;\")\n",
    "\n",
    "# To create a user named data_scientist with password secret2\n",
    "cur.execute(\"CREATE USER data_scientist WITH PASSWORD 'secret2';\")\n",
    "cur.execute(\"GRANT data_scientist TO readwrite;\")\n",
    "\n",
    "conn.commit()"
   ]
  },
  {
   "cell_type": "markdown",
   "metadata": {
    "collapsed": true
   },
   "source": [
    "## Testing"
   ]
  },
  {
   "cell_type": "markdown",
   "metadata": {},
   "source": [
    "Now that we have finished setting up the database, let us test that everything is configured as expected. We can query Postgres internal tables to see this information.\n",
    "\n",
    "We can use SQL queries to check whether the objects have been created and that users and groups have the right privileges. This requires us to know the Postgres internal tables. We can query the pg_user, pg_roles table to inspect privileges related to the database and the information_schema.table_privileges table to inspect table privileges.\n",
    "\n",
    "In information_schema.table_privileges table we will check privileges realted to type of SQL queries on the table. We will list the group name and the SQL queries, users in each group are allowed to make."
   ]
  },
  {
   "cell_type": "code",
   "execution_count": 13,
   "metadata": {},
   "outputs": [],
   "source": [
    "# Helper function to fetch and print in readable format\n",
    "def fetch_all(cursor):\n",
    "    values = cursor.fetchall()\n",
    "    for value in values:\n",
    "        print(value)\n",
    "    print('\\n')\n",
    "    return values"
   ]
  },
  {
   "cell_type": "code",
   "execution_count": 14,
   "metadata": {},
   "outputs": [
    {
     "name": "stdout",
     "output_type": "stream",
     "text": [
      "('data_analyst', 16497, False, False, False, False, '********', None, None)\n",
      "('data_scientist', 16498, False, False, False, False, '********', None, None)\n",
      "\n",
      "\n",
      "('dq', 'readonly', 'SELECT')\n",
      "('dq', 'readwrite', 'INSERT')\n",
      "('dq', 'readwrite', 'SELECT')\n",
      "('dq', 'readwrite', 'UPDATE')\n",
      "('dq', 'readwrite', 'DELETE')\n",
      "\n",
      "\n"
     ]
    }
   ],
   "source": [
    "# Let's Check the users and privileges from \"pg_user\" and \"information_schema.table_privileges\"\n",
    "cur.execute(\"\"\"\n",
    "    SELECT * \n",
    "    FROM pg_user\n",
    "    WHERE usename IN ('data_analyst', 'data_scientist');\n",
    "\"\"\")\n",
    "users = fetch_all(cur)\n",
    "\n",
    "# Privileges realted to readonly and readwrite groups\n",
    "cur.execute('''SELECT grantor, grantee, privilege_type \n",
    "                FROM information_schema.table_privileges \n",
    "                WHERE grantee IN ('readonly', 'readwrite');''')\n",
    "privil = fetch_all(cur)"
   ]
  },
  {
   "cell_type": "code",
   "execution_count": 15,
   "metadata": {},
   "outputs": [
    {
     "name": "stdout",
     "output_type": "stream",
     "text": [
      "('readonly', False, True, False, False, False, False, False, -1, '********', None, None, 16495)\n",
      "('readwrite', False, True, False, False, False, False, False, -1, '********', None, None, 16496)\n",
      "('data_analyst', False, True, False, False, False, True, False, -1, '********', None, None, 16497)\n",
      "('data_scientist', False, True, False, False, False, True, False, -1, '********', None, None, 16498)\n",
      "\n",
      "\n",
      "('dq', 'dq', 'INSERT')\n",
      "('dq', 'dq', 'SELECT')\n",
      "('dq', 'dq', 'UPDATE')\n",
      "('dq', 'dq', 'DELETE')\n",
      "('dq', 'dq', 'TRUNCATE')\n",
      "('dq', 'dq', 'REFERENCES')\n",
      "('dq', 'dq', 'TRIGGER')\n",
      "('dq', 'readonly', 'SELECT')\n",
      "('dq', 'readwrite', 'INSERT')\n",
      "('dq', 'readwrite', 'SELECT')\n",
      "('dq', 'readwrite', 'UPDATE')\n",
      "('dq', 'readwrite', 'DELETE')\n",
      "\n",
      "\n"
     ]
    }
   ],
   "source": [
    "# I will also check \"pg_roles\" (It shows both users and groups)\n",
    "cur.execute(\"\"\"\n",
    "    SELECT * \n",
    "    FROM pg_roles\n",
    "    WHERE rolname IN ('readonly', 'readwrite', 'data_analyst', 'data_scientist');\n",
    "\"\"\")\n",
    "\n",
    "pg_roles = fetch_all(cur)\n",
    "\n",
    "# Privileges realted to boston_crimes table\n",
    "cur.execute('''SELECT grantor, grantee, privilege_type \n",
    "                FROM information_schema.table_privileges \n",
    "                WHERE table_name = 'boston_crimes';''')\n",
    "privil_table = fetch_all(cur)"
   ]
  }
 ],
 "metadata": {
  "kernelspec": {
   "display_name": "Python 3 (ipykernel)",
   "language": "python",
   "name": "python3"
  },
  "language_info": {
   "codemirror_mode": {
    "name": "ipython",
    "version": 3
   },
   "file_extension": ".py",
   "mimetype": "text/x-python",
   "name": "python",
   "nbconvert_exporter": "python",
   "pygments_lexer": "ipython3",
   "version": "3.11.4"
  }
 },
 "nbformat": 4,
 "nbformat_minor": 2
}
